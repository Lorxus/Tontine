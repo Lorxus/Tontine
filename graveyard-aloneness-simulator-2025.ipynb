{
  "nbformat": 4,
  "nbformat_minor": 0,
  "metadata": {
    "colab": {
      "provenance": [],
      "authorship_tag": "ABX9TyM55S7vv5j2BoTDGAaPU4BF",
      "include_colab_link": true
    },
    "kernelspec": {
      "name": "python3",
      "display_name": "Python 3"
    },
    "language_info": {
      "name": "python"
    }
  },
  "cells": [
    {
      "cell_type": "markdown",
      "metadata": {
        "id": "view-in-github",
        "colab_type": "text"
      },
      "source": [
        "<a href=\"https://colab.research.google.com/github/Lorxus/Tontine/blob/main/graveyard-aloneness-simulator-2025.ipynb\" target=\"_parent\"><img src=\"https://colab.research.google.com/assets/colab-badge.svg\" alt=\"Open In Colab\"/></a>"
      ]
    },
    {
      "cell_type": "code",
      "execution_count": 23,
      "metadata": {
        "colab": {
          "base_uri": "https://localhost:8080/"
        },
        "id": "q4QXRpM5sedM",
        "outputId": "8e31f27a-d084-4706-e901-fc09b8621853"
      },
      "outputs": [
        {
          "output_type": "stream",
          "name": "stdout",
          "text": [
            "Lorxus was alone in a peaceful graveyard 10 times out of 16384 possible worlds.\n",
            "The probability that Lorxus was alone over 16384 universes turned out to be 0.0006.\n"
          ]
        }
      ],
      "source": [
        "# This program uses ensemble forecasting to give the probability that Lorxus will find themself alone in the Tontine Graveyard.\n",
        "# Tontine generates graveyards by picking 499 random players, irrespective of living status, and generates them along with the player in the graveyard.\n",
        "\n",
        "import random as rand\n",
        "import math\n",
        "\n",
        "PLAYERCOUNT = 7141  # number of players in tontine, living and dead\n",
        "LIVINGCOUNT = 278  # simulations show ~0.7% chance if the living count is 100 and a ~0% if at current (for 2024-03-21) pop of 278\n",
        "\n",
        "playerlivingstatus = [False] * (PLAYERCOUNT - 1)  # guaranteed to select the player as one of the 500\n",
        "for i in range(LIVINGCOUNT):\n",
        "    playerlivingstatus[i] = True  # instantiating the player living status list\n",
        "\n",
        "def runitonce(players: list) -> bool:\n",
        "    selectedindices = []\n",
        "\n",
        "    for i in range(499):\n",
        "        pickedplayer = rand.randint(0, 7139)\n",
        "        while pickedplayer in selectedindices:  # if at first your pick collides\n",
        "            pickedplayer = rand.randint(0, 7139)  # try, try again\n",
        "        selectedindices.append(pickedplayer)  # mark it\n",
        "\n",
        "        tempisalive = playerlivingstatus[pickedplayer]\n",
        "        if tempisalive:\n",
        "            return False\n",
        "\n",
        "    return True\n",
        "\n",
        "def graveyard_aloneness_simulator(numruns: int) -> float:\n",
        "    runoutcomes = []\n",
        "    alonecount = 0\n",
        "\n",
        "    for i in range(numruns):\n",
        "        thisoutcome = runitonce(playerlivingstatus)  # what if we ran it once, but like. numruns times?\n",
        "        runoutcomes.append(thisoutcome)\n",
        "\n",
        "        if thisoutcome:\n",
        "            alonecount += 1  # keep track of successes\n",
        "\n",
        "    print('Lorxus was alone in a peaceful graveyard', alonecount, 'times out of', numruns, 'possible worlds.')\n",
        "    return alonecount/numruns\n",
        "\n",
        "UNIVERSECOUNT = 16384\n",
        "print(f'The probability that Lorxus was alone over {UNIVERSECOUNT} universes turned out to be {graveyard_aloneness_simulator(UNIVERSECOUNT):.4f}.')"
      ]
    }
  ]
}