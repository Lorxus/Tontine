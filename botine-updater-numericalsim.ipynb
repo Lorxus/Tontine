{
  "nbformat": 4,
  "nbformat_minor": 0,
  "metadata": {
    "colab": {
      "provenance": [],
      "authorship_tag": "ABX9TyMV7eVl4E7owOwbaxFyCqaM",
      "include_colab_link": true
    },
    "kernelspec": {
      "name": "python3",
      "display_name": "Python 3"
    },
    "language_info": {
      "name": "python"
    }
  },
  "cells": [
    {
      "cell_type": "markdown",
      "metadata": {
        "id": "view-in-github",
        "colab_type": "text"
      },
      "source": [
        "<a href=\"https://colab.research.google.com/github/Lorxus/Tontine/blob/main/botine-updater-numericalsim.ipynb\" target=\"_parent\"><img src=\"https://colab.research.google.com/assets/colab-badge.svg\" alt=\"Open In Colab\"/></a>"
      ]
    },
    {
      "cell_type": "code",
      "execution_count": 17,
      "metadata": {
        "colab": {
          "base_uri": "https://localhost:8080/"
        },
        "id": "hyPrFNs6yH84",
        "outputId": "c90a8d50-bc64-46cf-e0e2-dd6a1b85bd58"
      },
      "outputs": [
        {
          "output_type": "stream",
          "name": "stdout",
          "text": [
            "How many have already died that botine doesn't show?\n",
            "5\n",
            "How many minutes past midnight is it?\n",
            "73\n",
            "How many ensemble runs?\n",
            "256\n",
            "The probability that botine hasn't yet got around to updating them all yet is: 0.988281\n"
          ]
        }
      ],
      "source": [
        "# numerical simulation for modeling trop's botine\n",
        "# premise: botine fetches a 499-player universe at random (trop + 499 others) and updates them\n",
        "# then it checks whether it's got everyone, and\n",
        "# it does this once every 5 minutes starting at midnight+1\n",
        "\n",
        "import random as rand\n",
        "\n",
        "PLAYERCOUNT = 7141  # number of players in tontine, living and dead\n",
        "UNIVERSE = 499\n",
        "CHECKCHANCE = UNIVERSE/PLAYERCOUNT\n",
        "# print(CHECKCHANCE)\n",
        "TICKLENGTH = 5  # botine checks once every this-many minutes\n",
        "checkedplayers = [False] * PLAYERCOUNT\n",
        "omaewamou = -1  # number of players which are already dead at the start of the day\n",
        "ticktock = -1  # how long it's been since midnight, in minutes\n",
        "numworlds = -1\n",
        "\n",
        "def updaternumericalsim(nd: int, t: int) -> bool:\n",
        "    if nd == 0:\n",
        "        return True\n",
        "    ticks = t // TICKLENGTH\n",
        "    for i in range(ticks):\n",
        "        for j in range(PLAYERCOUNT):\n",
        "            if rand.random() < CHECKCHANCE:  # I know this isn't technically exactly 499 but this should be good enough in ensemble\n",
        "                checkedplayers[j] = True\n",
        "\n",
        "    playersofinterest = checkedplayers[:nd]\n",
        "    return all(playersofinterest)\n",
        "\n",
        "def ensemble(nw: int, nd: int, t: int) -> float:\n",
        "    runoutcomes = [False] * nw\n",
        "    successcounter = 0\n",
        "    for i in range(nw):\n",
        "        thisworldwins = updaternumericalsim(nd, t)\n",
        "        runoutcomes[i] = thisworldwins\n",
        "        if thisworldwins:\n",
        "            successcounter += 1\n",
        "\n",
        "    return successcounter/nw\n",
        "\n",
        "print('How many have already died that botine doesn\\'t show?')\n",
        "omaewamou = int(input())\n",
        "print('How many minutes past midnight is it?')\n",
        "ticktock = int(input())\n",
        "print('How many ensemble runs?')\n",
        "numworlds = int(input())\n",
        "successrate = ensemble(numworlds, omaewamou, ticktock)\n",
        "print('The probability that botine hasn\\'t yet got around to updating them all yet is:', f'{successrate:.6f}')"
      ]
    }
  ]
}